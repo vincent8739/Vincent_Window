{
 "cells": [
  {
   "cell_type": "code",
   "execution_count": 2,
   "metadata": {},
   "outputs": [
    {
     "name": "stdout",
     "output_type": "stream",
     "text": [
      "id_=100 first_name='John' last_name='Smith' age=42\n"
     ]
    }
   ],
   "source": [
    "# Internet資料修改 符合 python格式  alias 建立別名\n",
    "from pydantic import BaseModel,Field\n",
    "\n",
    "data = '''{\n",
    "    \"id\":100, \n",
    "    \"First Name\":\"John\",\n",
    "    \"LASTNAME\":\"Smith\",\n",
    "    \"age in years\": 42\n",
    "}\n",
    "'''\n",
    "\n",
    "class Person(BaseModel):\n",
    "    id_:int = Field(alias=\"id\") #id是關鍵字\n",
    "    first_name:str = Field(alias='First Name') #名稱不能空格\n",
    "    last_name:str = Field(alias='LASTNAME') #名稱不能全大寫\n",
    "    age:int | None = Field(alias='age in years',default=None) #名稱不能空格\n",
    "\n",
    "p1 = Person.model_validate_json(data)\n",
    "print(p1)"
   ]
  },
  {
   "cell_type": "code",
   "execution_count": 3,
   "metadata": {},
   "outputs": [
    {
     "name": "stdout",
     "output_type": "stream",
     "text": [
      "id_=100 first_name='John' last_name='Smith' age=None\n"
     ]
    }
   ],
   "source": [
    "# 增加 optional default=None\n",
    "from pydantic import BaseModel,Field\n",
    "\n",
    "data = '''{\n",
    "    \"id\":100,\n",
    "    \"First Name\":\"John\",\n",
    "    \"LASTNAME\":\"Smith\"\n",
    "}\n",
    "'''\n",
    "\n",
    "class Person(BaseModel):\n",
    "    id_:int = Field(alias=\"id\")\n",
    "    first_name:str = Field(alias='First Name')\n",
    "    last_name:str = Field(alias='LASTNAME')\n",
    "    age:int | None = Field(alias='age in years',default=None)\n",
    "\n",
    "p2 = Person.model_validate_json(data)\n",
    "print(p2)"
   ]
  },
  {
   "cell_type": "code",
   "execution_count": 12,
   "metadata": {},
   "outputs": [
    {
     "name": "stdout",
     "output_type": "stream",
     "text": [
      "first_name='Arthur' last_name='Clarke' born=Born(place=Place(country='Lunar Colony', city='Central City'), date='2001-01-01')\n",
      "Lunar Colony\n",
      "Central City\n"
     ]
    }
   ],
   "source": [
    "data:dict = {\n",
    "    \"firstName\": \"Arthur\",\n",
    "    \"lastName\": \"Clarke\",\n",
    "    \"born\":{\n",
    "        \"place\":{\n",
    "            \"country\":\"Lunar Colony\",\n",
    "            \"city\": \"Central City\"\n",
    "        },\n",
    "        \"date\":\"2001-01-01\"\n",
    "    }\n",
    "}\n",
    "\n",
    "class Place(BaseModel):\n",
    "    country:str\n",
    "    city:str\n",
    "\n",
    "class Born(BaseModel):\n",
    "    place:Place\n",
    "    date:str\n",
    "\n",
    "class Json_person(BaseModel):\n",
    "    first_name:str=Field(alias=\"firstName\")\n",
    "    last_name:str=Field(alias=\"lastName\")\n",
    "    born:Born\n",
    "\n",
    "p2=Json_person.model_validate(data)\n",
    "print(p2)\n",
    "print(p2.born.place.country)\n",
    "print(p2.born.place.city)\n",
    "\n",
    "\n",
    "\n"
   ]
  }
 ],
 "metadata": {
  "kernelspec": {
   "display_name": "venv1",
   "language": "python",
   "name": "python3"
  },
  "language_info": {
   "codemirror_mode": {
    "name": "ipython",
    "version": 3
   },
   "file_extension": ".py",
   "mimetype": "text/x-python",
   "name": "python",
   "nbconvert_exporter": "python",
   "pygments_lexer": "ipython3",
   "version": "3.10.14"
  }
 },
 "nbformat": 4,
 "nbformat_minor": 2
}
