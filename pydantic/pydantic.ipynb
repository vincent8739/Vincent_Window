{
 "cells": [
  {
   "cell_type": "code",
   "execution_count": 1,
   "metadata": {},
   "outputs": [],
   "source": [
    "from pydantic import BaseModel\n",
    "class InventoryItem(BaseModel):\n",
    "    \"\"\" class for keeping track of an item inventory\"\"\"\n",
    "    name:str\n",
    "    unit_price: float\n",
    "    quantity: int=0"
   ]
  },
  {
   "cell_type": "code",
   "execution_count": 16,
   "metadata": {},
   "outputs": [
    {
     "name": "stdout",
     "output_type": "stream",
     "text": [
      "name='APPLE Phone' unit_price=30000.0 quantity=0\n",
      "APPLE Phone\n",
      "30000.0\n",
      "0\n"
     ]
    }
   ],
   "source": [
    "item1=InventoryItem(name=\"APPLE Phone\", unit_price=30000, quantity=\"150.25\")\n",
    "print(item1)\n",
    "print(item1.name)\n",
    "print(item1.unit_price)\n",
    "print(item1.quantity)"
   ]
  },
  {
   "cell_type": "code",
   "execution_count": 3,
   "metadata": {},
   "outputs": [
    {
     "name": "stdout",
     "output_type": "stream",
     "text": [
      "1 validation error for InventoryItem\n",
      "quantity\n",
      "  Input should be a valid integer, unable to parse string as an integer [type=int_parsing, input_value='150.25', input_type=str]\n",
      "    For further information visit https://errors.pydantic.dev/2.7/v/int_parsing\n"
     ]
    }
   ],
   "source": [
    "#字串自動轉換為floot\n",
    "from pydantic import ValidationError\n",
    "try:\n",
    "    item1=InventoryItem(name=\"APPLE Phone\", unit_price=300.25, quantity=\"150.25\")\n",
    "    print(item1)\n",
    "except ValidationError as e:\n",
    "    print(e)"
   ]
  },
  {
   "cell_type": "code",
   "execution_count": 4,
   "metadata": {},
   "outputs": [
    {
     "name": "stdout",
     "output_type": "stream",
     "text": [
      "name='APPLE Phone' unit_price=300.25 quantity=150\n"
     ]
    }
   ],
   "source": [
    "#字串自動轉為INT\n",
    "from pydantic import ValidationError\n",
    "try:\n",
    "    item1=InventoryItem(name=\"APPLE Phone\", unit_price=300.25, quantity=\"150\")\n",
    "    print(item1)\n",
    "except ValidationError as e:\n",
    "    print(e)\n"
   ]
  },
  {
   "cell_type": "code",
   "execution_count": 6,
   "metadata": {},
   "outputs": [
    {
     "name": "stdout",
     "output_type": "stream",
     "text": [
      "name='APPLE Phone' unit_price=300.25 quantity=150\n"
     ]
    }
   ],
   "source": [
    "#使用class method 來建立實體\n",
    "#方法一 : #model_validate(dict)\n",
    "from pydantic import BaseModel\n",
    "class InventoryItem(BaseModel):\n",
    "    \"\"\" class for keeping track of an item inventory\"\"\"\n",
    "    name:str\n",
    "    unit_price: float\n",
    "    quantity: int=0\n",
    "data:dict={\"name\":\"APPLE Phone\",\n",
    "           \"unit_price\":\"300.25\",\n",
    "            \"quantity\":\"150\"\n",
    "    }\n",
    "try:\n",
    "    item2=InventoryItem.model_validate(data)\n",
    "except ValidationError as e:\n",
    "    print(e)\n",
    "else:\n",
    "    print(item2)\n",
    "  \n"
   ]
  },
  {
   "cell_type": "code",
   "execution_count": 7,
   "metadata": {},
   "outputs": [
    {
     "name": "stdout",
     "output_type": "stream",
     "text": [
      "name='手機套' unit_price=150.5 quantity_on_hand=15\n"
     ]
    }
   ],
   "source": [
    "#使用class method 來建立實體\n",
    "#方法二 :# model_validate_json(json格式的字串)\n",
    "class InventoryItem(BaseModel):\n",
    "    \"\"\"Class for keeping track of an item in inventory.\"\"\"\n",
    "    name: str\n",
    "    unit_price: float\n",
    "    quantity_on_hand: int = 0\n",
    "\n",
    "data_json:str = '''\n",
    "{\n",
    "    \"name\":\"手機套\",\n",
    "    \"unit_price\":\"150.5\",\n",
    "    \"quantity_on_hand\":\"15\"\n",
    "}\n",
    "'''\n",
    "try:\n",
    "    item3 = InventoryItem.model_validate_json(data_json)\n",
    "except ValidationError as e:\n",
    "    print(e)\n",
    "else:\n",
    "    print(item3)"
   ]
  },
  {
   "cell_type": "code",
   "execution_count": 13,
   "metadata": {},
   "outputs": [
    {
     "name": "stdout",
     "output_type": "stream",
     "text": [
      "1 validation error for InventoryItem\n",
      "quantity_on_hand\n",
      "  Field required [type=missing, input_value={'name': '手機套', 'unit_price': '150.5'}, input_type=dict]\n",
      "    For further information visit https://errors.pydantic.dev/2.7/v/missing\n"
     ]
    }
   ],
   "source": [
    "# 資料可有可無 \n",
    "class InventoryItem(BaseModel):\n",
    "    \"\"\"Class for keeping track of an item in inventory.\"\"\"\n",
    "    name: str\n",
    "    unit_price: float\n",
    "    quantity_on_hand: int | None # Optional \n",
    "\n",
    "data_json:str = '''\n",
    "{\n",
    "    \"name\":\"手機套\",\n",
    "    \"unit_price\":\"150.5\" \n",
    "  \n",
    "}\n",
    "'''\n",
    "try:\n",
    "    item5 = InventoryItem.model_validate_json(data_json)\n",
    "except ValidationError as e:\n",
    "    print(e)\n",
    "else:\n",
    "    print(item5)"
   ]
  }
 ],
 "metadata": {
  "kernelspec": {
   "display_name": "venv1",
   "language": "python",
   "name": "python3"
  },
  "language_info": {
   "codemirror_mode": {
    "name": "ipython",
    "version": 3
   },
   "file_extension": ".py",
   "mimetype": "text/x-python",
   "name": "python",
   "nbconvert_exporter": "python",
   "pygments_lexer": "ipython3",
   "version": "3.10.14"
  }
 },
 "nbformat": 4,
 "nbformat_minor": 2
}
