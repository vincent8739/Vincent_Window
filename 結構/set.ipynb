{
 "cells": [
  {
   "cell_type": "code",
   "execution_count": 3,
   "metadata": {},
   "outputs": [
    {
     "name": "stdout",
     "output_type": "stream",
     "text": [
      "{1, 2, 3, 4, 5, 9}\n"
     ]
    }
   ],
   "source": [
    "s3:set={1,2,3,4,5}\n",
    "s4:set={2,1,3,5,9}\n",
    "U1:set=s3.union(s4)\n",
    "print(U1)"
   ]
  },
  {
   "cell_type": "code",
   "execution_count": 6,
   "metadata": {},
   "outputs": [
    {
     "name": "stdout",
     "output_type": "stream",
     "text": [
      "[46, 44, 40, 36, 27, 23, 20]\n"
     ]
    }
   ],
   "source": [
    "import random\n",
    "lot:set=set()\n",
    "# for 如果有隨機出現有重複數字　重複的數字只顯示一次\n",
    "while len(lot)<7:\n",
    "    lot.add(random.randint(1,49)) # lot為變數實體名稱\n",
    "lot_list:list[int]=list(lot) #  :list[int]：說明\n",
    "lot_list.sort(reverse=True) # lot_list為變數實體名稱\n",
    "print(lot_list)"
   ]
  }
 ],
 "metadata": {
  "kernelspec": {
   "display_name": "venv1",
   "language": "python",
   "name": "python3"
  },
  "language_info": {
   "codemirror_mode": {
    "name": "ipython",
    "version": 3
   },
   "file_extension": ".py",
   "mimetype": "text/x-python",
   "name": "python",
   "nbconvert_exporter": "python",
   "pygments_lexer": "ipython3",
   "version": "3.10.14"
  }
 },
 "nbformat": 4,
 "nbformat_minor": 2
}
