{
 "cells": [
  {
   "cell_type": "code",
   "execution_count": null,
   "metadata": {},
   "outputs": [],
   "source": []
  },
  {
   "cell_type": "code",
   "execution_count": 1,
   "metadata": {},
   "outputs": [
    {
     "name": "stdout",
     "output_type": "stream",
     "text": [
      "5\n"
     ]
    }
   ],
   "source": [
    "l1:list=[2,4,6,8,10]\n",
    "print(len(l1))"
   ]
  },
  {
   "cell_type": "code",
   "execution_count": 2,
   "metadata": {},
   "outputs": [
    {
     "name": "stdout",
     "output_type": "stream",
     "text": [
      "[2, 4, 6, 8, 10, 12]\n"
     ]
    }
   ],
   "source": [
    "l1.append(12)\n",
    "print(l1)"
   ]
  },
  {
   "cell_type": "code",
   "execution_count": null,
   "metadata": {},
   "outputs": [],
   "source": [
    "print(l1[0], end=' ')\n",
    "print(l1[1],end=' ')\n",
    "print(l1[2],end=' ')\n",
    "print(l1[3],end=' ')\n",
    "print(l1[4],end=' ')\n",
    "print(l1[6],end=' ')"
   ]
  },
  {
   "cell_type": "code",
   "execution_count": 3,
   "metadata": {},
   "outputs": [
    {
     "name": "stdout",
     "output_type": "stream",
     "text": [
      "[2, 4, 6, 8, 10, 12]\n",
      "[2, 4, 6, 8, 10, 12]\n",
      "[2, 4, 6, 8, 10, 12]\n",
      "[2, 4, 6, 8, 10, 12]\n",
      "[2, 4, 6, 8, 10, 12]\n",
      "[2, 4, 6, 8, 10, 12]\n"
     ]
    }
   ],
   "source": [
    "for item in enumerate(l1):\n",
    "    print(l1)"
   ]
  },
  {
   "cell_type": "code",
   "execution_count": 4,
   "metadata": {},
   "outputs": [
    {
     "name": "stdout",
     "output_type": "stream",
     "text": [
      "2\n",
      "4\n",
      "6\n",
      "8\n",
      "10\n",
      "12\n",
      "0\n",
      "2\n",
      "---------------\n",
      "1\n",
      "4\n",
      "---------------\n",
      "2\n",
      "6\n",
      "---------------\n",
      "3\n",
      "8\n",
      "---------------\n",
      "4\n",
      "10\n",
      "---------------\n",
      "5\n",
      "12\n",
      "---------------\n"
     ]
    }
   ],
   "source": [
    "for item in l1:\n",
    "    print(item)\n",
    "for index, value in enumerate(l1):\n",
    "    print(index)\n",
    "    print(value)\n",
    "    print(\"---------------\")"
   ]
  },
  {
   "cell_type": "code",
   "execution_count": null,
   "metadata": {},
   "outputs": [],
   "source": []
  }
 ],
 "metadata": {
  "kernelspec": {
   "display_name": "venv1",
   "language": "python",
   "name": "python3"
  },
  "language_info": {
   "codemirror_mode": {
    "name": "ipython",
    "version": 3
   },
   "file_extension": ".py",
   "mimetype": "text/x-python",
   "name": "python",
   "nbconvert_exporter": "python",
   "pygments_lexer": "ipython3",
   "version": "3.10.14"
  }
 },
 "nbformat": 4,
 "nbformat_minor": 2
}
