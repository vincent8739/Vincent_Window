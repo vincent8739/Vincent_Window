{
 "cells": [
  {
   "cell_type": "code",
   "execution_count": 5,
   "metadata": {},
   "outputs": [
    {
     "name": "stdout",
     "output_type": "stream",
     "text": [
      "3\n",
      "<class 'dict'>\n",
      "1\n",
      "2\n",
      "3\n"
     ]
    }
   ],
   "source": [
    "d1:dict={\"A\":1,\n",
    "         \"B\":2,\n",
    "         \"C\":3}\n",
    "print(len(d1))\n",
    "print(type(d1))\n",
    "print(d1['A'])\n",
    "print(d1['B'])\n",
    "print(d1['C'])"
   ]
  },
  {
   "cell_type": "code",
   "execution_count": 8,
   "metadata": {},
   "outputs": [
    {
     "name": "stdout",
     "output_type": "stream",
     "text": [
      "A\n",
      "1\n",
      "key=A\n",
      "value=1\n",
      "B\n",
      "2\n",
      "key=B\n",
      "value=2\n",
      "C\n",
      "3\n",
      "key=C\n",
      "value=3\n"
     ]
    }
   ],
   "source": [
    "for key in d1:\n",
    "    print(key)\n",
    "    print(d1[key])\n",
    "    print(f\"key={key}\")\n",
    "    print(f\"value={d1[key]}\")"
   ]
  },
  {
   "cell_type": "code",
   "execution_count": 9,
   "metadata": {},
   "outputs": [
    {
     "name": "stdout",
     "output_type": "stream",
     "text": [
      "{'A': 1, 'B': 2, 'C': 3, 'D': 4, 'E': 5}\n"
     ]
    }
   ],
   "source": [
    "d1[\"D\"]=4\n",
    "d1[\"E\"]=5\n",
    "print(d1)"
   ]
  },
  {
   "cell_type": "code",
   "execution_count": 18,
   "metadata": {},
   "outputs": [
    {
     "name": "stdout",
     "output_type": "stream",
     "text": [
      "A\n",
      "B\n",
      "C\n",
      "D\n",
      "E\n"
     ]
    }
   ],
   "source": [
    "d1.keys()\n",
    "for key in d1.keys():\n",
    "    print(key)\n",
    "\n"
   ]
  },
  {
   "cell_type": "code",
   "execution_count": 14,
   "metadata": {},
   "outputs": [
    {
     "name": "stdout",
     "output_type": "stream",
     "text": [
      "1\n",
      "2\n",
      "3\n",
      "4\n",
      "5\n"
     ]
    }
   ],
   "source": [
    "d1.values()\n",
    "for value in d1.values():\n",
    "    print(value)"
   ]
  },
  {
   "cell_type": "code",
   "execution_count": 21,
   "metadata": {},
   "outputs": [
    {
     "name": "stdout",
     "output_type": "stream",
     "text": [
      "A\n",
      "1\n",
      "----------------\n",
      "B\n",
      "2\n",
      "----------------\n",
      "C\n",
      "3\n",
      "----------------\n",
      "D\n",
      "4\n",
      "----------------\n",
      "E\n",
      "5\n",
      "----------------\n"
     ]
    }
   ],
   "source": [
    "d1.items()\n",
    "for key,value in d1.items():\n",
    "    print(key)\n",
    "    print(value)\n",
    "    print(\"----------------\")"
   ]
  },
  {
   "cell_type": "code",
   "execution_count": null,
   "metadata": {},
   "outputs": [],
   "source": []
  }
 ],
 "metadata": {
  "kernelspec": {
   "display_name": "venv1",
   "language": "python",
   "name": "python3"
  },
  "language_info": {
   "codemirror_mode": {
    "name": "ipython",
    "version": 3
   },
   "file_extension": ".py",
   "mimetype": "text/x-python",
   "name": "python",
   "nbconvert_exporter": "python",
   "pygments_lexer": "ipython3",
   "version": "3.10.14"
  }
 },
 "nbformat": 4,
 "nbformat_minor": 2
}
