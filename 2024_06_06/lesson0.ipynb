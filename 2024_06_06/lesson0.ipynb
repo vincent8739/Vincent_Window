{
 "cells": [
  {
   "cell_type": "code",
   "execution_count": 1,
   "metadata": {},
   "outputs": [],
   "source": [
    "import requests\n",
    "from requests import Response\n",
    "\n",
    "def download_json()->dict[any]:\n",
    "    url = \"https://tcgbusfs.blob.core.windows.net/dotapp/youbike/v2/youbike_immediate.json\"\n",
    "\n",
    "    try:\n",
    "        res:Response = requests.get(url)\n",
    "    except Exception:\n",
    "        raise (\"連線失敗\")\n",
    "    else:\n",
    "        all_data:dict[any] = res.json()\n",
    "        return all_data"
   ]
  },
  {
   "cell_type": "code",
   "execution_count": 2,
   "metadata": {},
   "outputs": [],
   "source": [
    "try:\n",
    "    all_data:dict[any] = download_json()\n",
    "except Exception as error:\n",
    "    print(error)"
   ]
  },
  {
   "cell_type": "code",
   "execution_count": 3,
   "metadata": {},
   "outputs": [],
   "source": [
    "from pydantic import BaseModel, RootModel, Field\n",
    "from datetime import datetime\n",
    "\n",
    "class Info(BaseModel):\n",
    "    sna:str\n",
    "    sarea:str\n",
    "    mday:datetime\n",
    "    ar:str\n",
    "    act:str\n",
    "    updateTime:datetime\n",
    "    total:int\n",
    "    rent_bikes:int = Field(alias=\"available_rent_bikes\")\n",
    "    lat:float = Field(alias=\"latitude\")\n",
    "    lng:float = Field(alias=\"longitude\")\n",
    "    retuen_bikes:int = Field(alias=\"available_return_bikes\")\n",
    "\n",
    "class Youbike_Data(RootModel):\n",
    "    root:list[Info]\n",
    "youbike_data:Youbike_Data = Youbike_Data.model_validate(all_data)\n",
    "data:list[dict] = youbike_data.model_dump()"
   ]
  },
  {
   "cell_type": "code",
   "execution_count": null,
   "metadata": {},
   "outputs": [],
   "source": [
    "data"
   ]
  },
  {
   "cell_type": "code",
   "execution_count": null,
   "metadata": {},
   "outputs": [],
   "source": []
  }
 ],
 "metadata": {
  "kernelspec": {
   "display_name": "venv1",
   "language": "python",
   "name": "python3"
  },
  "language_info": {
   "codemirror_mode": {
    "name": "ipython",
    "version": 3
   },
   "file_extension": ".py",
   "mimetype": "text/x-python",
   "name": "python",
   "nbconvert_exporter": "python",
   "pygments_lexer": "ipython3",
   "version": "3.10.14"
  }
 },
 "nbformat": 4,
 "nbformat_minor": 2
}
