{
 "cells": [
  {
   "cell_type": "code",
   "execution_count": 6,
   "metadata": {},
   "outputs": [],
   "source": [
    "from pprint import pprint\n",
    "import tkinter as tk\n",
    "from tkinter import ttk\n",
    "from ttkthemes import ThemedTk\n",
    "import tools\n",
    "from tkinter import messagebox\n",
    "from tkinter.simpledialog import Dialog\n",
    "\n",
    "class Window(ThemedTk):\n",
    "    def __init__(self,**kwargs):\n",
    "        super().__init__(**kwargs)\n",
    "        self.title(\"全台空氣品質指標(AQI)\")\n",
    "        #self.option_add(\"*Font\",\"微軟正黑體 40\")\n",
    "        #定義style的名稱\n",
    "        style = ttk.Style()\n",
    "        style.configure('Top.TFrame')\n",
    "        style.configure('Top.TLabel',font=('Helvetica',25,'bold'))\n",
    "\n",
    "        title_frame = ttk.Frame(self,style='Top.TFrame',borderwidth=2,relief='groove')\n",
    "        ttk.Label(title_frame,text='全台空氣品質指標(AQI)',style='Top.TLabel').pack(expand=True,fill='y')\n",
    "        title_frame.pack(ipadx=100,ipady=30,padx=10,pady=10)\n",
    "\n",
    "        func_frame = ttk.Frame(self,style='Top.TFrame',borderwidth=1,relief='groove')\n",
    "        ttk.Button(func_frame,text=\"AQI品質最好的5個\",command=self.click1).pack(side='left',expand=True)\n",
    "        ttk.Button(func_frame,text=\"AQI品質最差的5個\",command=self.click2).pack(side='left',expand=True)\n",
    "        ttk.Button(func_frame,text=\"pm2.5品質最好的5個\",command=self.click3).pack(side='left',expand=True)\n",
    "        ttk.Button(func_frame,text=\"pm2.5品質最差的5個\",command=self.click4).pack(side='left',expand=True)\n",
    "        func_frame.pack(ipadx=100,ipady=30,padx=10,pady=10)\n",
    "\n",
    "    def click1(self):\n",
    "        \n",
    "        try:\n",
    "            all_data:dict[any] = tools.download_json()\n",
    "        except Exception as error:\n",
    "            messagebox.showwarning(\"出現錯誤\", \"錯誤中請稍後再試\")\n",
    "            return\n",
    "            print(error)\n",
    "        else:        \n",
    "            data:list[dict] = tools.get_data(all_data)\n",
    "        pprint(data)    \n",
    "\n",
    "\n",
    "    def click2(self):\n",
    "        messagebox.showerror(\"Error\",\"Error message\")\n",
    "    def click3(self):\n",
    "        messagebox.showwarning(\"Warning\",\"Warning message\")\n",
    "    def click4(self):\n",
    "        ShowInfo(parent=self, title=\"這是對話框\")\n",
    "    \n",
    "class ShowInfo(Dialog):\n",
    "    def __init__(self,**kwargs):\n",
    "        super().__init__(**kwargs)\n",
    "    \n",
    "    def body(self,master):\n",
    "        text=tk.Text(self,height=8,font=(\"Helvetica\",25),width=40)\n",
    "        text.pack(padx=10,pady=10)\n",
    "        text.insert(tk.INSERT,\"高雄 屏東 台中 彰化 雲林\")\n",
    "        text.config(state=\"disabled\")\n",
    "        return None\n",
    "\n",
    "\n",
    "\n",
    "def main():\n",
    "    '''\n",
    "    \n",
    "    '''\n",
    "    window = Window(theme=\"arc\")\n",
    "    window.mainloop()\n",
    "    \n",
    "\n",
    "if __name__ == '__main__':\n",
    "    main()"
   ]
  },
  {
   "cell_type": "code",
   "execution_count": 8,
   "metadata": {},
   "outputs": [
    {
     "name": "stdout",
     "output_type": "stream",
     "text": [
      "新北市 - 萬里 - aqi:17 - 狀態:良好 - 2024-06-06 11:00\n",
      "臺中市 - 大甲（日南國小） - aqi:17 - 狀態:良好 - 2024-06-06 07:00\n",
      "臺中市 - 大甲（日南國小） - aqi:18 - 狀態:良好 - 2024-06-06 09:00\n",
      "苗栗縣 - 三義 - aqi:19 - 狀態:良好 - 2024-06-06 09:00\n",
      "新竹縣 - 竹東 - aqi:20 - 狀態:良好 - 2024-06-06 08:00\n"
     ]
    }
   ],
   "source": [
    "data:list[dict] = [{'site_name': '萬里', 'county': '新北市', 'aqi': 17, 'status': '良好', 'pm25': 1.0, 'date': '2024-06-06 11:00'}, {'site_name': '大甲（日南國小）', 'county': '臺中市', 'aqi': 17, 'status': '良好', 'pm25': 6.0, 'date': '2024-06-06 07:00'}, {'site_name': '大甲（日南國小）', 'county': '臺中市', 'aqi': 18, 'status': '良好', 'pm25': 13.0, 'date': '2024-06-06 09:00'}, {'site_name': '三義', 'county': '苗栗縣', 'aqi': 19, 'status': '良好', 'pm25': 9.0, 'date': '2024-06-06 09:00'}, {'site_name': '竹東', 'county': '新竹縣', 'aqi': 20, 'status': '良好', 'pm25': 0.0, 'date': '2024-06-06 08:00'}]\n",
    "def abc(value:dict)->str:\n",
    "    return f\"{value['county']} - {value['site_name']} - aqi:{value['aqi']} - 狀態:{value['status']} - {value['date']}\"\n",
    "\n",
    "message_data:list[str] = list(map(abc,data))\n",
    "print(\"\\n\".join(message_data))"
   ]
  }
 ],
 "metadata": {
  "kernelspec": {
   "display_name": "venv1",
   "language": "python",
   "name": "python3"
  },
  "language_info": {
   "codemirror_mode": {
    "name": "ipython",
    "version": 3
   },
   "file_extension": ".py",
   "mimetype": "text/x-python",
   "name": "python",
   "nbconvert_exporter": "python",
   "pygments_lexer": "ipython3",
   "version": "3.10.14"
  }
 },
 "nbformat": 4,
 "nbformat_minor": 2
}
