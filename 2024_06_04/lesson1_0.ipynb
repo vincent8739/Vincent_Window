{
 "cells": [
  {
   "cell_type": "code",
   "execution_count": 1,
   "metadata": {},
   "outputs": [
    {
     "data": {
      "text/plain": [
       "'{\\n    \"name\": \"Alice\",\\n    \"age\": 30,\\n    \"address\": {\\n        \"street\": \"123 Main St\",\\n        \"city\": \"Springfield\",\\n        \"zipcode\": \"12345\"\\n    },\\n    \"projects\": [\\n        {\\n            \"name\": \"Project A\",\\n            \"status\": \"completed\"\\n        },\\n        {\\n            \"name\": \"Project B\",\\n            \"status\": \"ongoing\"\\n        }\\n    ]\\n}'"
      ]
     },
     "execution_count": 1,
     "metadata": {},
     "output_type": "execute_result"
    }
   ],
   "source": [
    "with open(\"data.json\", encoding=\"utf-8\") as file:\n",
    "    content:str=file.read()\n",
    "content"
   ]
  },
  {
   "cell_type": "code",
   "execution_count": 2,
   "metadata": {},
   "outputs": [
    {
     "data": {
      "text/plain": [
       "'Project A'"
      ]
     },
     "execution_count": 2,
     "metadata": {},
     "output_type": "execute_result"
    }
   ],
   "source": [
    "from pydantic import BaseModel\n",
    "class Project(BaseModel):\n",
    "    name:str\n",
    "    status:str\n",
    "class Address (BaseModel):\n",
    "    street:str\n",
    "    city:str\n",
    "    zipcode:str\n",
    "class Person (BaseModel):\n",
    "    name:str\n",
    "    age:int\n",
    "    address:Address\n",
    "    projects:list[Project]\n",
    "p1=Person.model_validate_json(content)\n",
    "p1.projects[0].name\n",
    "    "
   ]
  },
  {
   "cell_type": "code",
   "execution_count": 3,
   "metadata": {},
   "outputs": [],
   "source": [
    "data=p1.model_dump()"
   ]
  }
 ],
 "metadata": {
  "kernelspec": {
   "display_name": "venv1",
   "language": "python",
   "name": "python3"
  },
  "language_info": {
   "codemirror_mode": {
    "name": "ipython",
    "version": 3
   },
   "file_extension": ".py",
   "mimetype": "text/x-python",
   "name": "python",
   "nbconvert_exporter": "python",
   "pygments_lexer": "ipython3",
   "version": "3.10.14"
  }
 },
 "nbformat": 4,
 "nbformat_minor": 2
}
