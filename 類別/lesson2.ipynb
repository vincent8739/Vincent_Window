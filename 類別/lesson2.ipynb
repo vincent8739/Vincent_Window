{
 "cells": [
  {
   "cell_type": "code",
   "execution_count": 6,
   "metadata": {},
   "outputs": [
    {
     "name": "stdout",
     "output_type": "stream",
     "text": [
      "p1.name=林見恆\n",
      "p1.name=林見恆)\n",
      "p2.name=Vincent Lin\n"
     ]
    }
   ],
   "source": [
    "class Person():\n",
    "    def __init__(self,n:str):\n",
    "                self.name=n\n",
    "    def __repr__(self):\n",
    "            return f\"我是person的實體, 我的名字是:{self.name}\"\n",
    "\n",
    "p1:Person=Person(\"林見恆\")\n",
    "print(f\"p1.name={p1.name}\")\n",
    "print(f\"p1.name={p1.name})\")\n",
    "\n",
    "p2:Person=Person(\"Vincent Lin\")\n",
    "p2.name\n",
    "print(f\"p2.name={p2.name}\")\n",
    "\n"
   ]
  },
  {
   "cell_type": "code",
   "execution_count": 8,
   "metadata": {},
   "outputs": [
    {
     "ename": "NameError",
     "evalue": "name 'name' is not defined",
     "output_type": "error",
     "traceback": [
      "\u001b[1;31m---------------------------------------------------------------------------\u001b[0m",
      "\u001b[1;31mNameError\u001b[0m                                 Traceback (most recent call last)",
      "Cell \u001b[1;32mIn[8], line 10\u001b[0m\n\u001b[0;32m      6\u001b[0m               \u001b[38;5;28;01mreturn\u001b[39;00m \u001b[38;5;124mf\u001b[39m\u001b[38;5;124m\"\u001b[39m\u001b[38;5;124m我是student的實體, 我的名字:\u001b[39m\u001b[38;5;132;01m{\u001b[39;00m\u001b[38;5;28mself\u001b[39m\u001b[38;5;241m.\u001b[39mname\u001b[38;5;132;01m}\u001b[39;00m\u001b[38;5;124m, 我的分數是: \u001b[39m\u001b[38;5;132;01m{\u001b[39;00m\u001b[38;5;28mself\u001b[39m\u001b[38;5;241m.\u001b[39mscores\u001b[38;5;132;01m}\u001b[39;00m\u001b[38;5;124m\"\u001b[39m\n\u001b[0;32m      9\u001b[0m s1\u001b[38;5;241m=\u001b[39mStudent(name\u001b[38;5;241m=\u001b[39m\u001b[38;5;124m\"\u001b[39m\u001b[38;5;124m林見恆\u001b[39m\u001b[38;5;124m\"\u001b[39m, s\u001b[38;5;241m=\u001b[39m\u001b[38;5;241m100\u001b[39m)\n\u001b[1;32m---> 10\u001b[0m \u001b[38;5;28mprint\u001b[39m(s1,\u001b[43mname\u001b[49m)\n\u001b[0;32m     11\u001b[0m \u001b[38;5;28mprint\u001b[39m(s1,scores)\n",
      "\u001b[1;31mNameError\u001b[0m: name 'name' is not defined"
     ]
    }
   ],
   "source": [
    "class Student(Person):\n",
    "        def __init__(self,name:str,s:int):\n",
    "            super().__init__(n=name)\n",
    "            self.scores=s\n",
    "        def __repr__(self):\n",
    "              return f\"我是student的實體, 我的名字:{self.name}, 我的分數是:{self.scores}\"\n",
    "      \n",
    "       \n",
    "s1=Student(name=\"林見恆\", s=100)\n",
    "print(s1,name)\n",
    "print(s1,scores)"
   ]
  },
  {
   "cell_type": "code",
   "execution_count": null,
   "metadata": {},
   "outputs": [],
   "source": [
    "print(p1)\n",
    "print(s1)\n",
    "print(p2)\n",
    "print(s2)\n"
   ]
  },
  {
   "cell_type": "code",
   "execution_count": 13,
   "metadata": {},
   "outputs": [],
   "source": [
    "import requests\n",
    "from requests import Response\n",
    "url=\"https://data.moenv.gov.tw/api/v2/aqx_p_488?api_key=e8dd42e6-9b8b-43f8-991e-b3dee723a52d&limit=1000&sort=datacreationdate%20desc&format=CSV\"\n",
    "res:Response=requests.get(url=url)\n"
   ]
  },
  {
   "cell_type": "code",
   "execution_count": 14,
   "metadata": {},
   "outputs": [],
   "source": [
    "if res.ok:\n",
    "    print(res.text)\n",
    "    content=(res.text)\n",
    "else:\n",
    "    print(\"Fail\")"
   ]
  },
  {
   "cell_type": "code",
   "execution_count": 17,
   "metadata": {},
   "outputs": [],
   "source": [
    "from io import StringIO\n",
    "import csv\n",
    "from csv import DictReader\n",
    "\n",
    "file:StringIO = StringIO(initial_value=content)\n",
    "type(file)\n",
    "reader:DictReader=csv.DictReader(file)\n",
    "list_reader=list(reader)\n",
    "fields=list_reader\n",
    "fields=list_reader[0].keys()\n"
   ]
  },
  {
   "cell_type": "code",
   "execution_count": 19,
   "metadata": {},
   "outputs": [
    {
     "ename": "TypeError",
     "evalue": "DictWriter.__init__() missing 1 required positional argument: 'fieldnames'",
     "output_type": "error",
     "traceback": [
      "\u001b[1;31m---------------------------------------------------------------------------\u001b[0m",
      "\u001b[1;31mTypeError\u001b[0m                                 Traceback (most recent call last)",
      "Cell \u001b[1;32mIn[19], line 6\u001b[0m\n\u001b[0;32m      4\u001b[0m \u001b[38;5;28;01mwith\u001b[39;00m \u001b[38;5;28mopen\u001b[39m(\u001b[38;5;124m'\u001b[39m\u001b[38;5;124maqi.csv\u001b[39m\u001b[38;5;124m'\u001b[39m, \u001b[38;5;124m'\u001b[39m\u001b[38;5;124mw\u001b[39m\u001b[38;5;124m'\u001b[39m, newline\u001b[38;5;241m=\u001b[39m\u001b[38;5;124m'\u001b[39m\u001b[38;5;124m'\u001b[39m) \u001b[38;5;28;01mas\u001b[39;00m csvfile:\n\u001b[0;32m      5\u001b[0m     file:StringIO\u001b[38;5;241m=\u001b[39mStringIO(initial_value\u001b[38;5;241m=\u001b[39mcontent)\n\u001b[1;32m----> 6\u001b[0m     writer:DictWriter\u001b[38;5;241m=\u001b[39m\u001b[43mDictWriter\u001b[49m\u001b[43m(\u001b[49m\u001b[43mcsvfile\u001b[49m\u001b[43m,\u001b[49m\u001b[43m \u001b[49m\u001b[43mfieldname\u001b[49m\u001b[38;5;241;43m=\u001b[39;49m\u001b[43mfields\u001b[49m\u001b[43m)\u001b[49m\n\u001b[0;32m      7\u001b[0m     writer\u001b[38;5;241m.\u001b[39mwriteheader()\n\u001b[0;32m      8\u001b[0m     writer\u001b[38;5;241m.\u001b[39mwriterow(list_reader)\n",
      "\u001b[1;31mTypeError\u001b[0m: DictWriter.__init__() missing 1 required positional argument: 'fieldnames'"
     ]
    }
   ],
   "source": [
    "from io import StringIO\n",
    "import csv\n",
    "from csv import DictWriter\n",
    "with open('aqi.csv', 'w', newline='') as csvfile:\n",
    "    file:StringIO=StringIO(initial_value=content)\n",
    "    writer:DictWriter=DictWriter(csvfile, fieldname=fields)\n",
    "    writer.writeheader()\n",
    "    writer.writerow(list_reader)\n"
   ]
  },
  {
   "cell_type": "code",
   "execution_count": 24,
   "metadata": {},
   "outputs": [],
   "source": [
    "import requests\n",
    "from requests import Response\n",
    "url=\"https://data.moenv.gov.tw/api/v2/aqx_p_488?api_key=e8dd42e6-9b8b-43f8-991e-b3dee723a52d&limit=1000&sort=datacreationdate desc&format=JSON\"\n",
    "res:Response=requests.get(url=url)"
   ]
  },
  {
   "cell_type": "code",
   "execution_count": 25,
   "metadata": {},
   "outputs": [],
   "source": [
    "with open(\"aqil_Json.csv\", 'wb') as fd:\n",
    "    for chunk in res.iter_content(chunk_size=128):\n",
    "        fd.write(chunk)"
   ]
  }
 ],
 "metadata": {
  "kernelspec": {
   "display_name": "venv1",
   "language": "python",
   "name": "python3"
  },
  "language_info": {
   "codemirror_mode": {
    "name": "ipython",
    "version": 3
   },
   "file_extension": ".py",
   "mimetype": "text/x-python",
   "name": "python",
   "nbconvert_exporter": "python",
   "pygments_lexer": "ipython3",
   "version": "3.10.14"
  }
 },
 "nbformat": 4,
 "nbformat_minor": 2
}
